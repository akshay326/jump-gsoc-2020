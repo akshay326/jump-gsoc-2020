{
  "nbformat": 4,
  "nbformat_minor": 0,
  "metadata": {
    "colab": {
      "name": "SVM vs Softmax.ipynb",
      "provenance": []
    },
    "kernelspec": {
      "name": "python3",
      "display_name": "Python 3"
    },
    "language_info": {
      "name": "python"
    }
  },
  "cells": [
    {
      "cell_type": "code",
      "execution_count": 94,
      "metadata": {
        "id": "DOVwEXtYZ5va"
      },
      "outputs": [],
      "source": [
        "import matplotlib.pyplot as plt\n",
        "import numpy as np\n",
        "import keras, random, math\n",
        "from keras.datasets import mnist\n",
        "from keras.models import Sequential\n",
        "from keras.layers import Dense, Activation, Dropout\n",
        "from keras.regularizers import l2, l1_l2\n",
        "import tensorflow as tf\n",
        "\n",
        "#NP warning\n",
        "import warnings\n",
        "warnings.filterwarnings('ignore')"
      ]
    },
    {
      "cell_type": "code",
      "source": [
        "(x_train, y_train), (x_test, y_test) = mnist.load_data()\n"
      ],
      "metadata": {
        "colab": {
          "base_uri": "https://localhost:8080/"
        },
        "id": "I8DWsZ--aARQ",
        "outputId": "62219d09-5669-41a3-c238-2344ee229aa6"
      },
      "execution_count": 2,
      "outputs": [
        {
          "output_type": "stream",
          "name": "stdout",
          "text": [
            "Downloading data from https://storage.googleapis.com/tensorflow/tf-keras-datasets/mnist.npz\n",
            "11493376/11490434 [==============================] - 0s 0us/step\n",
            "11501568/11490434 [==============================] - 0s 0us/step\n"
          ]
        }
      ]
    },
    {
      "cell_type": "code",
      "source": [
        "print('Number of images (digits): ', x_train.shape[0]) \n",
        "print('Dimensions of X: ', x_train.shape[1], 'x', x_train.shape[2])"
      ],
      "metadata": {
        "colab": {
          "base_uri": "https://localhost:8080/"
        },
        "id": "tnmAd8fBaCeP",
        "outputId": "6470dd88-0b5d-44bb-f5c6-c05e9ba31a66"
      },
      "execution_count": 35,
      "outputs": [
        {
          "output_type": "stream",
          "name": "stdout",
          "text": [
            "Number of images (digits):  60000\n",
            "Dimensions of X:  28 x 28\n"
          ]
        }
      ]
    },
    {
      "cell_type": "code",
      "source": [
        "# 28x28 = 784\n",
        "model = Sequential([\n",
        "      Dense(50, input_shape=(784,)),\n",
        "      Activation('relu'),\n",
        "      Dense(10),\n",
        "      Activation('softmax'),\n",
        "])\n",
        "\n",
        "model.compile(optimizer='adam', loss='categorical_crossentropy', metrics=['accuracy'])"
      ],
      "metadata": {
        "id": "4cMSjhEGaD3N"
      },
      "execution_count": 117,
      "outputs": []
    },
    {
      "cell_type": "code",
      "source": [
        "y_train_hot = tf.keras.utils.to_categorical(y_train, num_classes=10)\n",
        "x_train_unroll = x_train.reshape(60000, 784)\n",
        "x_test_unroll = x_test.reshape(10000, 784)"
      ],
      "metadata": {
        "id": "Vc4JbakraHWP"
      },
      "execution_count": 118,
      "outputs": []
    },
    {
      "cell_type": "code",
      "source": [
        "model.fit(x_train_unroll, y_train_hot, epochs=3)"
      ],
      "metadata": {
        "colab": {
          "base_uri": "https://localhost:8080/"
        },
        "id": "_xFn7OTDbQDm",
        "outputId": "f1918b1b-7120-48b3-85e5-36c0305aa332"
      },
      "execution_count": 119,
      "outputs": [
        {
          "output_type": "stream",
          "name": "stdout",
          "text": [
            "Epoch 1/3\n",
            "1875/1875 [==============================] - 4s 2ms/step - loss: 2.0544 - accuracy: 0.7469\n",
            "Epoch 2/3\n",
            "1875/1875 [==============================] - 4s 2ms/step - loss: 0.5379 - accuracy: 0.8741\n",
            "Epoch 3/3\n",
            "1875/1875 [==============================] - 4s 2ms/step - loss: 0.3874 - accuracy: 0.9050\n"
          ]
        },
        {
          "output_type": "execute_result",
          "data": {
            "text/plain": [
              "<keras.callbacks.History at 0x7f87a5a8a890>"
            ]
          },
          "metadata": {},
          "execution_count": 119
        }
      ]
    },
    {
      "cell_type": "code",
      "source": [
        "prediction_hot = model.predict(x_test_unroll)\n",
        "prediction = np.array([np.argmax(p) for p in prediction_hot])\n",
        "np.mean(prediction == y_test) # accuracy"
      ],
      "metadata": {
        "colab": {
          "base_uri": "https://localhost:8080/"
        },
        "id": "zFojn3thbaq0",
        "outputId": "97e2b2c2-6711-40b9-964f-7d8e10ff566e"
      },
      "execution_count": 120,
      "outputs": [
        {
          "output_type": "execute_result",
          "data": {
            "text/plain": [
              "0.9047"
            ]
          },
          "metadata": {},
          "execution_count": 120
        }
      ]
    },
    {
      "cell_type": "markdown",
      "source": [
        "## using SVM instead of softmax"
      ],
      "metadata": {
        "id": "Xd--AC1geF-S"
      }
    },
    {
      "cell_type": "code",
      "source": [
        "# 28x28 = 784\n",
        "model2 = Sequential([\n",
        "      Dense(50, input_shape=(784,)),\n",
        "      Activation('relu'),\n",
        "      Dense(10, kernel_regularizer=l1_l2(5e-3))\n",
        "])\n",
        "\n",
        "model2.compile(optimizer='adam', loss='categorical_hinge', metrics=['accuracy'])"
      ],
      "metadata": {
        "id": "myclgUI9cQgV"
      },
      "execution_count": 121,
      "outputs": []
    },
    {
      "cell_type": "code",
      "source": [
        "model2.fit(x_train_unroll, y_train_hot, epochs=3)"
      ],
      "metadata": {
        "colab": {
          "base_uri": "https://localhost:8080/"
        },
        "id": "UcKygJfxee4E",
        "outputId": "c9b20587-8e4a-4afd-e45c-d464faad9b3a"
      },
      "execution_count": 122,
      "outputs": [
        {
          "output_type": "stream",
          "name": "stdout",
          "text": [
            "Epoch 1/3\n",
            "1875/1875 [==============================] - 4s 2ms/step - loss: 2.5031 - accuracy: 0.6244\n",
            "Epoch 2/3\n",
            "1875/1875 [==============================] - 4s 2ms/step - loss: 0.7223 - accuracy: 0.7271\n",
            "Epoch 3/3\n",
            "1875/1875 [==============================] - 4s 2ms/step - loss: 0.4065 - accuracy: 0.8403\n"
          ]
        },
        {
          "output_type": "execute_result",
          "data": {
            "text/plain": [
              "<keras.callbacks.History at 0x7f87a59a6dd0>"
            ]
          },
          "metadata": {},
          "execution_count": 122
        }
      ]
    },
    {
      "cell_type": "code",
      "source": [
        "prediction_hot = model2.predict(x_test_unroll)\n",
        "prediction = np.array([np.argmax(p) for p in prediction_hot])\n",
        "np.mean(prediction == y_test) # accuracy"
      ],
      "metadata": {
        "colab": {
          "base_uri": "https://localhost:8080/"
        },
        "id": "cXa_alQ5ehUL",
        "outputId": "27553a24-e7f3-4387-9e05-260800e44893"
      },
      "execution_count": 123,
      "outputs": [
        {
          "output_type": "execute_result",
          "data": {
            "text/plain": [
              "0.894"
            ]
          },
          "metadata": {},
          "execution_count": 123
        }
      ]
    },
    {
      "cell_type": "code",
      "source": [
        ""
      ],
      "metadata": {
        "id": "jZsIPIBsenxv"
      },
      "execution_count": 88,
      "outputs": []
    }
  ]
}